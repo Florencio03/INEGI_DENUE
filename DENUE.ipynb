{
 "cells": [
  {
   "cell_type": "code",
   "execution_count": 1,
   "id": "eca8ab4f-c277-4118-9639-9eedfe5d53ec",
   "metadata": {},
   "outputs": [],
   "source": [
    "import csv"
   ]
  },
  {
   "cell_type": "code",
   "execution_count": 3,
   "id": "c15955f9-6b48-4454-b524-4a1a1d30dba2",
   "metadata": {
    "scrolled": true
   },
   "outputs": [],
   "source": [
    "colnames = None\n",
    "acts = {}\n",
    "acts_by_ageb = {}\n",
    "\n",
    "with open('./conjunto_de_datos/denue_inegi_31_.csv', newline='', encoding='latin-1') as f:\n",
    "    reader = csv.reader(f)\n",
    "    limit = 1000000000\n",
    "    _r = 0\n",
    "    for row in reader:\n",
    "        if colnames is None:\n",
    "            colnames = row\n",
    "        #print(row)\n",
    "        if str(row[33]) in acts_by_ageb:\n",
    "            if str(row[4]) in acts_by_ageb[row[33]]:\n",
    "                acts_by_ageb[row[33]][str(row[4])] += 1\n",
    "            else:\n",
    "                acts_by_ageb[row[33]][str(row[4])] = 1\n",
    "        else:\n",
    "                acts_by_ageb[row[33]] = {str(row[4]): 1}\n",
    "        if str(row[4]) in acts:\n",
    "            acts[str(row[4])] += 1\n",
    "        else:\n",
    "            acts[str(row[4])] = 1\n",
    "        _r += 1\n",
    "        if _r == limit: \n",
    "            break\n",
    "_acts=sorted(acts.items(), key=lambda x:x[1], reverse=True)\n",
    "#_acts"
   ]
  },
  {
   "cell_type": "markdown",
   "id": "05dc568d-7352-44aa-9a18-5c94cf229f9e",
   "metadata": {},
   "source": [
    "Para el diccionario solo usé la función DictReader, jupyter notebook no me deja imprimir todo el diccionario. "
   ]
  },
  {
   "cell_type": "code",
   "execution_count": 25,
   "id": "eede22f5-758f-4799-8ae7-9de7b5b4c1ac",
   "metadata": {},
   "outputs": [],
   "source": [
    "with open ('./conjunto_de_datos/denue_inegi_31_.csv', newline='', encoding='latin-1') as archivo_csv:\n",
    "  list_denue=list(csv.reader(archivo_csv))\n",
    "    #print(datos_csv)"
   ]
  },
  {
   "cell_type": "code",
   "execution_count": 31,
   "id": "883b5179-5fdb-4579-a19f-0dfbc60abe21",
   "metadata": {},
   "outputs": [
    {
     "name": "stdout",
     "output_type": "stream",
     "text": [
      "['id', 'clee', 'nom_estab', 'raz_social', 'codigo_act', 'nombre_act', 'per_ocu', 'tipo_vial', 'nom_vial', 'tipo_v_e_1', 'nom_v_e_1', 'tipo_v_e_2', 'nom_v_e_2', 'tipo_v_e_3', 'nom_v_e_3', 'numero_ext', 'letra_ext', 'edificio', 'edificio_e', 'numero_int', 'letra_int', 'tipo_asent', 'nomb_asent', 'tipoCenCom', 'nom_CenCom', 'num_local', 'cod_postal', 'cve_ent', 'entidad', 'cve_mun', 'municipio', 'cve_loc', 'localidad', 'ageb', 'manzana', 'telefono', 'correoelec', 'www', 'tipoUniEco', 'latitud', 'longitud', 'fecha_alta']\n"
     ]
    }
   ],
   "source": [
    "print(list_denue[0])"
   ]
  },
  {
   "cell_type": "code",
   "execution_count": 26,
   "id": "da80d460-c894-4a03-810c-a6a9d995db55",
   "metadata": {},
   "outputs": [
    {
     "ename": "AttributeError",
     "evalue": "'list' object has no attribute 'split'",
     "output_type": "error",
     "traceback": [
      "\u001b[1;31m---------------------------------------------------------------------------\u001b[0m",
      "\u001b[1;31mAttributeError\u001b[0m                            Traceback (most recent call last)",
      "Cell \u001b[1;32mIn[26], line 2\u001b[0m\n\u001b[0;32m      1\u001b[0m \u001b[38;5;66;03m#Se declara la primera linea como la lista de las llaves\u001b[39;00m\n\u001b[1;32m----> 2\u001b[0m keys \u001b[38;5;241m=\u001b[39m \u001b[43mlist_denue\u001b[49m\u001b[43m[\u001b[49m\u001b[38;5;241;43m0\u001b[39;49m\u001b[43m]\u001b[49m\u001b[38;5;241;43m.\u001b[39;49m\u001b[43msplit\u001b[49m()\n\u001b[0;32m      4\u001b[0m \u001b[38;5;66;03m# Diccionario vacio \u001b[39;00m\n\u001b[0;32m      5\u001b[0m denue_dict \u001b[38;5;241m=\u001b[39m {}\n",
      "\u001b[1;31mAttributeError\u001b[0m: 'list' object has no attribute 'split'"
     ]
    }
   ],
   "source": [
    "#Se declara la primera linea como la lista de las llaves\n",
    "keys = list_denue[0].split()\n",
    "\n",
    "# Diccionario vacio \n",
    "denue_dict = {}\n",
    "\n",
    "for line in list_denue[1:]:\n",
    "    values = line.split()\n",
    "    denue_dict[values[0]] = {keys[i]: values[i] for i in range(1, len(keys))}"
   ]
  },
  {
   "cell_type": "code",
   "execution_count": 29,
   "id": "471ab817-49a2-490b-8904-b4ec612276b1",
   "metadata": {},
   "outputs": [],
   "source": [
    "# Diccionario vacio \n",
    "my_dict = {}\n",
    "\n",
    "# llaves\n",
    "keys = list_denue[0]\n",
    "\n",
    "for key in keys:\n",
    "    my_dict[key] = list_denue[1:]\n",
    "#print(my_dict)"
   ]
  },
  {
   "cell_type": "code",
   "execution_count": 30,
   "id": "348b03b4-7cc7-43cb-a114-676f23d2ba60",
   "metadata": {},
   "outputs": [
    {
     "ename": "KeyError",
     "evalue": "<built-in function id>",
     "output_type": "error",
     "traceback": [
      "\u001b[1;31m---------------------------------------------------------------------------\u001b[0m",
      "\u001b[1;31mKeyError\u001b[0m                                  Traceback (most recent call last)",
      "Cell \u001b[1;32mIn[30], line 1\u001b[0m\n\u001b[1;32m----> 1\u001b[0m \u001b[38;5;28mprint\u001b[39m(\u001b[43mmy_dict\u001b[49m\u001b[43m[\u001b[49m\u001b[38;5;28;43mid\u001b[39;49m\u001b[43m]\u001b[49m)\n",
      "\u001b[1;31mKeyError\u001b[0m: <built-in function id>"
     ]
    }
   ],
   "source": [
    "print(my_dict[id])"
   ]
  },
  {
   "cell_type": "code",
   "execution_count": 27,
   "id": "92d4b19e-8ff4-431b-87b9-b738bf9c7574",
   "metadata": {},
   "outputs": [],
   "source": [
    "with open('./conjunto_de_datos/denue_inegi_31_.csv', newline='', encoding='latin-1') as csvfile:\n",
    "  reader_denue = csv.DictReader(csvfile, delimiter=',')\n",
    "  #for row in reader:\n",
    "    #ageb = row['ageb']\n",
    "    #print(ageb)"
   ]
  },
  {
   "cell_type": "code",
   "execution_count": 28,
   "id": "073eeea3-cedf-416e-b526-7f72fdf52b50",
   "metadata": {},
   "outputs": [
    {
     "ename": "TypeError",
     "evalue": "'DictReader' object is not subscriptable",
     "output_type": "error",
     "traceback": [
      "\u001b[1;31m---------------------------------------------------------------------------\u001b[0m",
      "\u001b[1;31mTypeError\u001b[0m                                 Traceback (most recent call last)",
      "Cell \u001b[1;32mIn[28], line 1\u001b[0m\n\u001b[1;32m----> 1\u001b[0m \u001b[38;5;28mprint\u001b[39m(\u001b[43mreader_denue\u001b[49m\u001b[43m[\u001b[49m\u001b[38;5;28;43mid\u001b[39;49m\u001b[43m]\u001b[49m)\n",
      "\u001b[1;31mTypeError\u001b[0m: 'DictReader' object is not subscriptable"
     ]
    }
   ],
   "source": [
    "print(reader_denue[id])"
   ]
  },
  {
   "cell_type": "code",
   "execution_count": null,
   "id": "1450767e-7541-4a69-a3ad-55b1f4018f9a",
   "metadata": {},
   "outputs": [],
   "source": []
  },
  {
   "cell_type": "code",
   "execution_count": 24,
   "id": "6a542f1b-6ad3-44eb-9c06-16eada7fd2fb",
   "metadata": {},
   "outputs": [],
   "source": [
    "#!pip install matplotlib"
   ]
  },
  {
   "cell_type": "code",
   "execution_count": null,
   "id": "c4a4de9b-70be-49c1-9aed-07c19b8ea716",
   "metadata": {},
   "outputs": [],
   "source": [
    "#import matplotlib.pyplot as plt\n",
    "\n",
    "#data = dict(sorted((acts_by_ageb['0098']).items(), key=lambda x:x[1], reverse=True))\n",
    "#data = acts_by_ageb['0098']\n",
    "#names = list(data.keys())\n",
    "#values = list(data.values())\n",
    "\n",
    "#plt.figure(figsize=(16,6))\n",
    "#plt.bar(range(len(data)), values, tick_label=names)\n",
    "#plt.xticks(rotation = 90)\n",
    "#plt.show()"
   ]
  },
  {
   "cell_type": "code",
   "execution_count": null,
   "id": "23f3cb8c-3218-4b21-a562-5e347dd6c768",
   "metadata": {},
   "outputs": [],
   "source": [
    "#data"
   ]
  }
 ],
 "metadata": {
  "kernelspec": {
   "display_name": "Python 3 (ipykernel)",
   "language": "python",
   "name": "python3"
  },
  "language_info": {
   "codemirror_mode": {
    "name": "ipython",
    "version": 3
   },
   "file_extension": ".py",
   "mimetype": "text/x-python",
   "name": "python",
   "nbconvert_exporter": "python",
   "pygments_lexer": "ipython3",
   "version": "3.11.2"
  }
 },
 "nbformat": 4,
 "nbformat_minor": 5
}

{
 "cells": [
  {
   "cell_type": "code",
   "execution_count": 1,
   "id": "eca8ab4f-c277-4118-9639-9eedfe5d53ec",
   "metadata": {},
   "outputs": [],
   "source": [
    "import csv"
   ]
  },
  {
   "cell_type": "code",
   "execution_count": 12,
   "id": "c15955f9-6b48-4454-b524-4a1a1d30dba2",
   "metadata": {
    "scrolled": true
   },
   "outputs": [],
   "source": [
    "colnames = None\n",
    "acts = {}\n",
    "acts_by_ageb = {}\n",
    "\n",
    "with open('./conjunto_de_datos/denue_inegi_31_.csv', newline='', encoding='latin-1') as f:\n",
    "    reader = csv.reader(f)\n",
    "    limit = 1000000000\n",
    "    _r = 0\n",
    "    for row in reader:\n",
    "        if colnames is None:\n",
    "            colnames = row\n",
    "        #print(row)\n",
    "        if str(row[33]) in acts_by_ageb:\n",
    "            if str(row[4]) in acts_by_ageb[row[33]]:\n",
    "                acts_by_ageb[row[33]][str(row[4])] += 1\n",
    "            else:\n",
    "                acts_by_ageb[row[33]][str(row[4])] = 1\n",
    "        else:\n",
    "                acts_by_ageb[row[33]] = {str(row[4]): 1}\n",
    "        if str(row[4]) in acts:\n",
    "            acts[str(row[4])] += 1\n",
    "        else:\n",
    "            acts[str(row[4])] = 1\n",
    "        _r += 1\n",
    "        if _r == limit: \n",
    "            break\n",
    "_acts=sorted(acts.items(), key=lambda x:x[1], reverse=True)\n",
    "#_acts"
   ]
  },
  {
   "cell_type": "markdown",
   "id": "05dc568d-7352-44aa-9a18-5c94cf229f9e",
   "metadata": {},
   "source": [
    "Para el diccionario solo usé la función DictReader, jupyter notebook no me deja imprimir todo el diccionario. "
   ]
  },
  {
   "cell_type": "code",
   "execution_count": 2,
   "id": "eede22f5-758f-4799-8ae7-9de7b5b4c1ac",
   "metadata": {},
   "outputs": [],
   "source": [
    "with open ('./conjunto_de_datos/denue_inegi_31_.csv', newline='', encoding='latin-1') as archivo_csv:\n",
    "  list_denue=list(csv.reader(archivo_csv))\n",
    "    #print(datos_csv)"
   ]
  },
  {
   "cell_type": "code",
   "execution_count": 3,
   "id": "7fd883da-1d3b-4a19-87bf-06256b6af4d5",
   "metadata": {},
   "outputs": [
    {
     "name": "stdout",
     "output_type": "stream",
     "text": [
      "<class 'list'>\n"
     ]
    }
   ],
   "source": [
    "#print(list_denue[30][2])\n",
    "print(type(list_denue))"
   ]
  },
  {
   "cell_type": "markdown",
   "id": "63e6dc2f-b978-44db-a532-159ead04b7b3",
   "metadata": {},
   "source": [
    "Definí una función para formar el diccionario, para este caso estoy manejando la columna de los id como las llaves, a su vez cada id forma un diccionario. "
   ]
  },
  {
   "cell_type": "code",
   "execution_count": 4,
   "id": "687062bc-88aa-4db9-92dd-fe83eeb88a3d",
   "metadata": {},
   "outputs": [],
   "source": [
    "def csv_to_dict(csv_file):\n",
    "    result = {}\n",
    "    with open(csv_file, newline='', encoding='latin-1') as file:\n",
    "        reader = csv.DictReader(file)\n",
    "        for row in reader:\n",
    "\n",
    "            key = row.pop(reader.fieldnames[0])\n",
    "            result[key] = row\n",
    "    return result"
   ]
  },
  {
   "cell_type": "code",
   "execution_count": 5,
   "id": "dcb8efac-4480-499b-b319-045efbd083a9",
   "metadata": {},
   "outputs": [
    {
     "name": "stdout",
     "output_type": "stream",
     "text": [
      "<class 'dict'>\n"
     ]
    }
   ],
   "source": [
    "csv_file = './conjunto_de_datos/denue_inegi_31_.csv'\n",
    "my_dict = csv_to_dict(csv_file)\n",
    "#print(my_dict.keys())\n",
    "print(type(my_dict))"
   ]
  },
  {
   "cell_type": "code",
   "execution_count": 13,
   "id": "f455f32b-00e9-4d8d-ae19-8120e7fa77bd",
   "metadata": {
    "scrolled": true
   },
   "outputs": [],
   "source": [
    "#print(my_dict.keys())"
   ]
  },
  {
   "cell_type": "code",
   "execution_count": 10,
   "id": "2350ecaf-afa6-45e4-86ed-7ca7d0899c3d",
   "metadata": {},
   "outputs": [
    {
     "name": "stdout",
     "output_type": "stream",
     "text": [
      "{'clee': '31080315222006651000000000U9', 'nom_estab': 'ARMADOR DE PRENDAS DE VESTIR', 'raz_social': '', 'codigo_act': '315229', 'nombre_act': 'Confección en serie de otra ropa exterior de materiales textiles', 'per_ocu': '0 a 5 personas', 'tipo_vial': 'CALLE', 'nom_vial': '40', 'tipo_v_e_1': 'CALLE', 'nom_v_e_1': '17', 'tipo_v_e_2': 'CALLE', 'nom_v_e_2': '13', 'tipo_v_e_3': 'CALLE', 'nom_v_e_3': '42', 'numero_ext': '0', 'letra_ext': 'SN', 'edificio': '', 'edificio_e': '', 'numero_int': '0', 'letra_int': '', 'tipo_asent': 'COLONIA', 'nomb_asent': 'SAN MARTIN', 'tipoCenCom': '', 'nom_CenCom': '', 'num_local': '', 'cod_postal': '97680', 'cve_ent': '31', 'entidad': 'Yucatán', 'cve_mun': '080', 'municipio': 'Tekit', 'cve_loc': '0001', 'localidad': 'Tekit', 'ageb': '0098', 'manzana': '034', 'telefono': '9971059722', 'correoelec': '', 'www': '', 'tipoUniEco': 'Fijo', 'latitud': '20.54003201000000089', 'longitud': '-89.33978233999999929', 'fecha_alta': '2019-11'}\n"
     ]
    }
   ],
   "source": [
    "print(my_dict['6989314'])"
   ]
  },
  {
   "cell_type": "code",
   "execution_count": 11,
   "id": "ac3a61c5-7aee-46b7-89e7-f799b23208d2",
   "metadata": {},
   "outputs": [
    {
     "name": "stdout",
     "output_type": "stream",
     "text": [
      "315229\n"
     ]
    }
   ],
   "source": [
    "print(my_dict['6989314']['codigo_act'])"
   ]
  },
  {
   "cell_type": "code",
   "execution_count": null,
   "id": "883b5179-5fdb-4579-a19f-0dfbc60abe21",
   "metadata": {},
   "outputs": [],
   "source": []
  },
  {
   "cell_type": "code",
   "execution_count": null,
   "id": "073eeea3-cedf-416e-b526-7f72fdf52b50",
   "metadata": {},
   "outputs": [],
   "source": []
  },
  {
   "cell_type": "code",
   "execution_count": 24,
   "id": "6a542f1b-6ad3-44eb-9c06-16eada7fd2fb",
   "metadata": {},
   "outputs": [],
   "source": [
    "#!pip install matplotlib"
   ]
  },
  {
   "cell_type": "code",
   "execution_count": null,
   "id": "c4a4de9b-70be-49c1-9aed-07c19b8ea716",
   "metadata": {},
   "outputs": [],
   "source": [
    "#import matplotlib.pyplot as plt\n",
    "\n",
    "#data = dict(sorted((acts_by_ageb['0098']).items(), key=lambda x:x[1], reverse=True))\n",
    "#data = acts_by_ageb['0098']\n",
    "#names = list(data.keys())\n",
    "#values = list(data.values())\n",
    "\n",
    "#plt.figure(figsize=(16,6))\n",
    "#plt.bar(range(len(data)), values, tick_label=names)\n",
    "#plt.xticks(rotation = 90)\n",
    "#plt.show()"
   ]
  },
  {
   "cell_type": "code",
   "execution_count": null,
   "id": "23f3cb8c-3218-4b21-a562-5e347dd6c768",
   "metadata": {},
   "outputs": [],
   "source": [
    "#data"
   ]
  }
 ],
 "metadata": {
  "kernelspec": {
   "display_name": "Python 3 (ipykernel)",
   "language": "python",
   "name": "python3"
  },
  "language_info": {
   "codemirror_mode": {
    "name": "ipython",
    "version": 3
   },
   "file_extension": ".py",
   "mimetype": "text/x-python",
   "name": "python",
   "nbconvert_exporter": "python",
   "pygments_lexer": "ipython3",
   "version": "3.11.2"
  }
 },
 "nbformat": 4,
 "nbformat_minor": 5
}

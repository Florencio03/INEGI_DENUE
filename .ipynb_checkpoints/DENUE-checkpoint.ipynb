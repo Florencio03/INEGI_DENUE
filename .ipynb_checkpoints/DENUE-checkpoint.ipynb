{
 "cells": [
  {
   "cell_type": "code",
   "execution_count": 1,
   "id": "eca8ab4f-c277-4118-9639-9eedfe5d53ec",
   "metadata": {},
   "outputs": [],
   "source": [
    "import csv"
   ]
  },
  {
   "cell_type": "code",
   "execution_count": 3,
   "id": "c15955f9-6b48-4454-b524-4a1a1d30dba2",
   "metadata": {
    "scrolled": true
   },
   "outputs": [],
   "source": [
    "colnames = None\n",
    "acts = {}\n",
    "acts_by_ageb = {}\n",
    "\n",
    "with open('./conjunto_de_datos/denue_inegi_31_.csv', newline='', encoding='latin-1') as f:\n",
    "    reader = csv.reader(f)\n",
    "    limit = 1000000000\n",
    "    _r = 0\n",
    "    for row in reader:\n",
    "        if colnames is None:\n",
    "            colnames = row\n",
    "        #print(row)\n",
    "        if str(row[33]) in acts_by_ageb:\n",
    "            if str(row[4]) in acts_by_ageb[row[33]]:\n",
    "                acts_by_ageb[row[33]][str(row[4])] += 1\n",
    "            else:\n",
    "                acts_by_ageb[row[33]][str(row[4])] = 1\n",
    "        else:\n",
    "                acts_by_ageb[row[33]] = {str(row[4]): 1}\n",
    "        if str(row[4]) in acts:\n",
    "            acts[str(row[4])] += 1\n",
    "        else:\n",
    "            acts[str(row[4])] = 1\n",
    "        _r += 1\n",
    "        if _r == limit: \n",
    "            break\n",
    "_acts=sorted(acts.items(), key=lambda x:x[1], reverse=True)\n",
    "#_acts"
   ]
  },
  {
   "cell_type": "markdown",
   "id": "05dc568d-7352-44aa-9a18-5c94cf229f9e",
   "metadata": {},
   "source": [
    "Para el diccionario solo usé la función DictReader, en jupyter notebook tengo problemas para abrir. "
   ]
  },
  {
   "cell_type": "code",
   "execution_count": null,
   "id": "073eeea3-cedf-416e-b526-7f72fdf52b50",
   "metadata": {},
   "outputs": [],
   "source": [
    "#with open('./conjunto_de_datos/denue_inegi_31_.csv', newline='', encoding='latin-1') as data:\n",
    "  #for line in csv.DictReader(data):\n",
    "      #print(line)"
   ]
  },
  {
   "cell_type": "code",
   "execution_count": 4,
   "id": "6a542f1b-6ad3-44eb-9c06-16eada7fd2fb",
   "metadata": {},
   "outputs": [
    {
     "name": "stdout",
     "output_type": "stream",
     "text": [
      "Requirement already satisfied: matplotlib in c:\\users\\asus\\appdata\\local\\programs\\python\\python311\\lib\\site-packages (3.7.1)"
     ]
    },
    {
     "name": "stderr",
     "output_type": "stream",
     "text": [
      "\n",
      "[notice] A new release of pip is available: 23.3.2 -> 24.0\n",
      "[notice] To update, run: python.exe -m pip install --upgrade pip\n"
     ]
    },
    {
     "name": "stdout",
     "output_type": "stream",
     "text": [
      "\n",
      "Requirement already satisfied: contourpy>=1.0.1 in c:\\users\\asus\\appdata\\local\\programs\\python\\python311\\lib\\site-packages (from matplotlib) (1.0.7)\n",
      "Requirement already satisfied: cycler>=0.10 in c:\\users\\asus\\appdata\\local\\programs\\python\\python311\\lib\\site-packages (from matplotlib) (0.11.0)\n",
      "Requirement already satisfied: fonttools>=4.22.0 in c:\\users\\asus\\appdata\\local\\programs\\python\\python311\\lib\\site-packages (from matplotlib) (4.39.0)\n",
      "Requirement already satisfied: kiwisolver>=1.0.1 in c:\\users\\asus\\appdata\\local\\programs\\python\\python311\\lib\\site-packages (from matplotlib) (1.4.4)\n",
      "Requirement already satisfied: numpy>=1.20 in c:\\users\\asus\\appdata\\local\\programs\\python\\python311\\lib\\site-packages (from matplotlib) (1.24.2)\n",
      "Requirement already satisfied: packaging>=20.0 in c:\\users\\asus\\appdata\\local\\programs\\python\\python311\\lib\\site-packages (from matplotlib) (24.0)\n",
      "Requirement already satisfied: pillow>=6.2.0 in c:\\users\\asus\\appdata\\local\\programs\\python\\python311\\lib\\site-packages (from matplotlib) (9.4.0)\n",
      "Requirement already satisfied: pyparsing>=2.3.1 in c:\\users\\asus\\appdata\\local\\programs\\python\\python311\\lib\\site-packages (from matplotlib) (3.0.9)\n",
      "Requirement already satisfied: python-dateutil>=2.7 in c:\\users\\asus\\appdata\\local\\programs\\python\\python311\\lib\\site-packages (from matplotlib) (2.9.0.post0)\n",
      "Requirement already satisfied: six>=1.5 in c:\\users\\asus\\appdata\\local\\programs\\python\\python311\\lib\\site-packages (from python-dateutil>=2.7->matplotlib) (1.16.0)\n"
     ]
    }
   ],
   "source": [
    "!pip install matplotlib"
   ]
  },
  {
   "cell_type": "code",
   "execution_count": null,
   "id": "c4a4de9b-70be-49c1-9aed-07c19b8ea716",
   "metadata": {},
   "outputs": [],
   "source": [
    "#import matplotlib.pyplot as plt\n",
    "\n",
    "#data = dict(sorted((acts_by_ageb['0098']).items(), key=lambda x:x[1], reverse=True))\n",
    "#data = acts_by_ageb['0098']\n",
    "#names = list(data.keys())\n",
    "#values = list(data.values())\n",
    "\n",
    "#plt.figure(figsize=(16,6))\n",
    "#plt.bar(range(len(data)), values, tick_label=names)\n",
    "#plt.xticks(rotation = 90)\n",
    "#plt.show()"
   ]
  },
  {
   "cell_type": "code",
   "execution_count": null,
   "id": "23f3cb8c-3218-4b21-a562-5e347dd6c768",
   "metadata": {},
   "outputs": [],
   "source": [
    "#data"
   ]
  }
 ],
 "metadata": {
  "kernelspec": {
   "display_name": "Python 3 (ipykernel)",
   "language": "python",
   "name": "python3"
  },
  "language_info": {
   "codemirror_mode": {
    "name": "ipython",
    "version": 3
   },
   "file_extension": ".py",
   "mimetype": "text/x-python",
   "name": "python",
   "nbconvert_exporter": "python",
   "pygments_lexer": "ipython3",
   "version": "3.11.2"
  }
 },
 "nbformat": 4,
 "nbformat_minor": 5
}
